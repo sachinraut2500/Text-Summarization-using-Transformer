{
  "nbformat": 4,
  "nbformat_minor": 0,
  "metadata": {
    "colab": {
      "provenance": []
    },
    "kernelspec": {
      "name": "python3",
      "display_name": "Python 3"
    },
    "language_info": {
      "name": "python"
    }
  },
  "cells": [
    {
      "cell_type": "code",
      "execution_count": null,
      "metadata": {
        "id": "4LD5WkI-cr4f"
      },
      "outputs": [],
      "source": [
        "\n",
        "---\n",
        "\n",
        "## Project 4: Text Summarization using Transformer\n",
        "\n",
        "---\n",
        "\n",
        "### `text_summarization_transformer.py`\n",
        "\n",
        "```python\n",
        "from transformers import pipeline\n",
        "\n",
        "def main():\n",
        "    summarizer = pipeline(\"summarization\")\n",
        "\n",
        "    article = \"\"\"\n",
        "    Artificial Intelligence (AI) refers to the simulation of human intelligence in machines that are programmed to think and learn.\n",
        "    AI has various applications in today's world including healthcare, finance, and autonomous vehicles.\n",
        "    The technology is advancing rapidly with new breakthroughs in natural language processing, computer vision, and robotics.\n",
        "    \"\"\"\n",
        "\n",
        "    summary = summarizer(article, max_length=50, min_length=25, do_sample=False)\n",
        "    print(\"Summary:\")\n",
        "    print(summary[0]['summary_text'])\n",
        "\n",
        "if __name__ == \"__main__\":\n",
        "    main()\n"
      ]
    }
  ]
}